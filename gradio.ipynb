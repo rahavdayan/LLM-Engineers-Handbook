{
 "cells": [
  {
   "cell_type": "code",
   "execution_count": 1,
   "id": "61eb3768",
   "metadata": {},
   "outputs": [
    {
     "name": "stderr",
     "output_type": "stream",
     "text": [
      "2025-05-05 23:44:41.487945: E external/local_xla/xla/stream_executor/cuda/cuda_fft.cc:467] Unable to register cuFFT factory: Attempting to register factory for plugin cuFFT when one has already been registered\n",
      "WARNING: All log messages before absl::InitializeLog() is called are written to STDERR\n",
      "E0000 00:00:1746503081.504668   54772 cuda_dnn.cc:8579] Unable to register cuDNN factory: Attempting to register factory for plugin cuDNN when one has already been registered\n",
      "E0000 00:00:1746503081.509541   54772 cuda_blas.cc:1407] Unable to register cuBLAS factory: Attempting to register factory for plugin cuBLAS when one has already been registered\n",
      "W0000 00:00:1746503081.521917   54772 computation_placer.cc:177] computation placer already registered. Please check linkage and avoid linking the same target more than once.\n",
      "W0000 00:00:1746503081.521946   54772 computation_placer.cc:177] computation placer already registered. Please check linkage and avoid linking the same target more than once.\n",
      "W0000 00:00:1746503081.521947   54772 computation_placer.cc:177] computation placer already registered. Please check linkage and avoid linking the same target more than once.\n",
      "W0000 00:00:1746503081.521949   54772 computation_placer.cc:177] computation placer already registered. Please check linkage and avoid linking the same target more than once.\n",
      "2025-05-05 23:44:41.526149: I tensorflow/core/platform/cpu_feature_guard.cc:210] This TensorFlow binary is optimized to use available CPU instructions in performance-critical operations.\n",
      "To enable the following instructions: AVX2 FMA, in other operations, rebuild TensorFlow with the appropriate compiler flags.\n"
     ]
    },
    {
     "name": "stdout",
     "output_type": "stream",
     "text": [
      "                                                           \r"
     ]
    },
    {
     "name": "stderr",
     "output_type": "stream",
     "text": [
      "ffmpeg version 6.1.1-3ubuntu5 Copyright (c) 2000-2023 the FFmpeg developers\n",
      "  built with gcc 13 (Ubuntu 13.2.0-23ubuntu3)\n",
      "  configuration: --prefix=/usr --extra-version=3ubuntu5 --toolchain=hardened --libdir=/usr/lib/x86_64-linux-gnu --incdir=/usr/include/x86_64-linux-gnu --arch=amd64 --enable-gpl --disable-stripping --disable-omx --enable-gnutls --enable-libaom --enable-libass --enable-libbs2b --enable-libcaca --enable-libcdio --enable-libcodec2 --enable-libdav1d --enable-libflite --enable-libfontconfig --enable-libfreetype --enable-libfribidi --enable-libglslang --enable-libgme --enable-libgsm --enable-libharfbuzz --enable-libmp3lame --enable-libmysofa --enable-libopenjpeg --enable-libopenmpt --enable-libopus --enable-librubberband --enable-libshine --enable-libsnappy --enable-libsoxr --enable-libspeex --enable-libtheora --enable-libtwolame --enable-libvidstab --enable-libvorbis --enable-libvpx --enable-libwebp --enable-libx265 --enable-libxml2 --enable-libxvid --enable-libzimg --enable-openal --enable-opencl --enable-opengl --disable-sndio --enable-libvpl --disable-libmfx --enable-libdc1394 --enable-libdrm --enable-libiec61883 --enable-chromaprint --enable-frei0r --enable-ladspa --enable-libbluray --enable-libjack --enable-libpulse --enable-librabbitmq --enable-librist --enable-libsrt --enable-libssh --enable-libsvtav1 --enable-libx264 --enable-libzmq --enable-libzvbi --enable-lv2 --enable-sdl2 --enable-libplacebo --enable-librav1e --enable-pocketsphinx --enable-librsvg --enable-libjxl --enable-shared\n",
      "  libavutil      58. 29.100 / 58. 29.100\n",
      "  libavcodec     60. 31.102 / 60. 31.102\n",
      "  libavformat    60. 16.100 / 60. 16.100\n",
      "  libavdevice    60.  3.100 / 60.  3.100\n",
      "  libavfilter     9. 12.100 /  9. 12.100\n",
      "  libswscale      7.  5.100 /  7.  5.100\n",
      "  libswresample   4. 12.100 /  4. 12.100\n",
      "  libpostproc    57.  3.100 / 57.  3.100\n",
      "Input #0, mov,mp4,m4a,3gp,3g2,mj2, from 'input.mp4':\n",
      "  Metadata:\n",
      "    major_brand     : isom\n",
      "    minor_version   : 512\n",
      "    compatible_brands: isomiso2avc1mp41\n",
      "    encoder         : Lavf60.16.100\n",
      "  Duration: 00:02:26.18, start: 0.000000, bitrate: 1632 kb/s\n",
      "  Stream #0:0[0x1](und): Video: h264 (High) (avc1 / 0x31637661), yuv420p(tv, bt709, progressive), 1920x1080 [SAR 1:1 DAR 16:9], 1533 kb/s, 30 fps, 30 tbr, 15360 tbn (default)\n",
      "    Metadata:\n",
      "      handler_name    : ISO Media file produced by Google Inc.\n",
      "      vendor_id       : [0][0][0][0]\n",
      "  Stream #0:1[0x2](eng): Audio: opus (Opus / 0x7375704F), 48000 Hz, stereo, fltp, 92 kb/s (default)\n",
      "    Metadata:\n",
      "      handler_name    : SoundHandler\n",
      "      vendor_id       : [0][0][0][0]\n",
      "[mp4 @ 0x555e0674fb80] track 1: codec frame size is not set\n",
      "Output #0, mp4, to 'demo.mp4':\n",
      "  Metadata:\n",
      "    major_brand     : isom\n",
      "    minor_version   : 512\n",
      "    compatible_brands: isomiso2avc1mp41\n",
      "    encoder         : Lavf60.16.100\n",
      "  Stream #0:0(und): Video: h264 (High) (avc1 / 0x31637661), yuv420p(tv, bt709, progressive), 1920x1080 [SAR 1:1 DAR 16:9], q=2-31, 1533 kb/s, 30 fps, 30 tbr, 15360 tbn (default)\n",
      "    Metadata:\n",
      "      handler_name    : ISO Media file produced by Google Inc.\n",
      "      vendor_id       : [0][0][0][0]\n",
      "  Stream #0:1(eng): Audio: opus (Opus / 0x7375704F), 48000 Hz, stereo, fltp, 92 kb/s (default)\n",
      "    Metadata:\n",
      "      handler_name    : SoundHandler\n",
      "      vendor_id       : [0][0][0][0]\n",
      "Stream mapping:\n",
      "  Stream #0:0 -> #0:0 (copy)\n",
      "  Stream #0:1 -> #0:1 (copy)\n",
      "Press [q] to stop, [?] for help\n",
      "[out#0/mp4 @ 0x555e06719c40] video:1120kB audio:210kB subtitle:0kB other streams:0kB global headers:0kB muxing overhead: 1.538135%\n",
      "size=    1351kB time=00:00:19.98 bitrate= 553.9kbits/s speed= 375x    \n"
     ]
    },
    {
     "name": "stdout",
     "output_type": "stream",
     "text": [
      "20s video segment saved to demo.mp4\n"
     ]
    },
    {
     "data": {
      "text/plain": [
       "([{'role': 'user',\n",
       "   'content': 'Using only the videos, explain the the binary cross entropy loss function.'},\n",
       "  {'role': 'assistant',\n",
       "   'content': 'Here are the requested steps:\\n\\n**1. Summarize the main idea or key point explained in the question in one sentence:**\\nThe user is asking for an explanation of the binary cross entropy loss function using videos.\\n\\n**2. Highlight any explanation, definition, or key information related to the user\\'s question:**\\n* \"the first is the binary cross entropy loss which will accept also the ground truth\" (emphasis on **binary cross entropy loss**)\\n\\nThis sentence explains that the binary cross entropy loss function can be used and accepts a ground truth value.\\n\\n**3. If relevant, rephrase technical descriptions into simpler or more understandable terms:**\\nThe binary cross entropy loss function is a mathematical formula used in machine learning to measure how well a model is predicting a binary outcome (e.g., 0 or 1). It calculates the difference between the predicted output and the actual ground truth value.'}],\n",
       " 'demo.mp4')"
      ]
     },
     "execution_count": 1,
     "metadata": {},
     "output_type": "execute_result"
    }
   ],
   "source": [
    "from retrieval import *\n",
    "\n",
    "\n",
    "# Gradio Interface\n",
    "def chatbot_interface(user_input):\n",
    "    # Generate text response and relevant video segment\n",
    "    chunks = grab_relevant_chunks(user_input)  # Generate text response\n",
    "    for chunk in chunks:\n",
    "        video_idx = chunk[\"video\"]\n",
    "        start = chunk[\"start\"]\n",
    "        end = chunk[\"end\"]\n",
    "        text = chunk[\"text\"]\n",
    "    video_segment_path = get_video_segment(start, end, video_idx)  # Function to fetch the correct video segment\n",
    "    chat_history = [\n",
    "        {\"role\": \"user\", \"content\": user_input},\n",
    "        {\"role\": \"assistant\", \"content\": generate_response(user_input, text)}\n",
    "    ]\n",
    "    return (chat_history, video_segment_path)\n",
    "\n",
    "chatbot_interface(\"Using only the videos, explain the the binary cross entropy loss function.\")\n",
    "# # Launch the app with Gradio\n",
    "# iface = gr.Interface(\n",
    "#     fn=chatbot_interface,\n",
    "#     inputs=gr.Textbox(label=\"Ask a Question\"),\n",
    "#     outputs=[gr.Chatbot(type=\"messages\"), gr.Video()],  # Textbox for the response and Video output for video segment\n",
    "#     live=True,\n",
    "#     title=\"Video-Based Q&A Bot\",\n",
    "#     description=\"Ask any question about video content and get answers based on the video segments.\"\n",
    "# )\n",
    "\n",
    "# iface.launch()"
   ]
  }
 ],
 "metadata": {
  "kernelspec": {
   "display_name": "llm-engineering-sRZUHTNH-py3.11",
   "language": "python",
   "name": "python3"
  },
  "language_info": {
   "codemirror_mode": {
    "name": "ipython",
    "version": 3
   },
   "file_extension": ".py",
   "mimetype": "text/x-python",
   "name": "python",
   "nbconvert_exporter": "python",
   "pygments_lexer": "ipython3",
   "version": "3.11.8"
  }
 },
 "nbformat": 4,
 "nbformat_minor": 5
}
