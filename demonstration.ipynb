{
 "cells": [
  {
   "cell_type": "markdown",
   "id": "a5362ffb",
   "metadata": {},
   "source": [
    "# Sample Questions and Answers\n",
    "\n",
    "## 1. Using only the videos, explain how ResNets work.\n",
    "\n",
    "<video width=\"640\" height=\"360\" controls>\n",
    "  <source src=\"resnets.mp4\" type=\"video/mp4\">\n",
    "  Your browser does not support the video tag.\n",
    "</video>\n",
    "\n",
    "---\n",
    "\n",
    "## 2. Using only the videos, explain the advantages of CNNs over fully connected networks.\n",
    "\n",
    "<video width=\"640\" height=\"360\" controls>\n",
    "  <source src=\"cnns_vs_fcns.mp4\" type=\"video/mp4\">\n",
    "  Your browser does not support the video tag.\n",
    "</video>\n",
    "\n",
    "---\n",
    "\n",
    "## 3. Using only the videos, explain the binary cross entropy loss function.\n",
    "\n",
    "<video width=\"640\" height=\"360\" controls>\n",
    "  <source src=\"binary_cross_entropy.mp4\" type=\"video/mp4\">\n",
    "  Your browser does not support the video tag.\n",
    "</video>\n"
   ]
  }
 ],
 "metadata": {
  "kernelspec": {
   "display_name": "llm-engineering-sRZUHTNH-py3.11",
   "language": "python",
   "name": "python3"
  },
  "language_info": {
   "codemirror_mode": {
    "name": "ipython",
    "version": 3
   },
   "file_extension": ".py",
   "mimetype": "text/x-python",
   "name": "python",
   "nbconvert_exporter": "python",
   "pygments_lexer": "ipython3",
   "version": "3.11.8"
  }
 },
 "nbformat": 4,
 "nbformat_minor": 5
}
